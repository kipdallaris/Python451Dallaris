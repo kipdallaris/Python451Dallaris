{
  "cells": [
    {
      "cell_type": "markdown",
      "metadata": {
        "id": "view-in-github",
        "colab_type": "text"
      },
      "source": [
        "<a href=\"https://colab.research.google.com/github/kipdallaris/Python451Dallaris/blob/main/Dallarishw02.ipynb\" target=\"_parent\"><img src=\"https://colab.research.google.com/assets/colab-badge.svg\" alt=\"Open In Colab\"/></a>"
      ]
    },
    {
      "cell_type": "markdown",
      "metadata": {
        "id": "Az6-dTTPZaKS"
      },
      "source": [
        "Special thanks to: https://github.com/justmarkham for sharing the dataset and materials."
      ]
    },
    {
      "cell_type": "code",
      "execution_count": 2,
      "metadata": {
        "id": "JXY1RV6CZaKS"
      },
      "outputs": [],
      "source": [
        "import pandas as pd\n",
        "import numpy as np"
      ]
    },
    {
      "cell_type": "markdown",
      "metadata": {
        "id": "twy9DviyZaKT"
      },
      "source": [
        "### Step 3. Read the following URL and assign it to a variable called chipo.    \n",
        "NOTE: It is a TSV file, not CSV. Find out how to read TSV using read_csv in Pandas.\n",
        "\n"
      ]
    },
    {
      "cell_type": "code",
      "execution_count": 3,
      "metadata": {
        "id": "A1AAH0_aZaKU"
      },
      "outputs": [],
      "source": [
        "url = 'https://raw.githubusercontent.com/justmarkham/DAT8/master/data/chipotle.tsv'\n",
        "\n",
        "chipo = pd.read_csv(url, sep = '\\t')"
      ]
    },
    {
      "cell_type": "markdown",
      "metadata": {
        "id": "jJ13PCzbZaKU"
      },
      "source": [
        "### Show/print the first **20** entries"
      ]
    },
    {
      "cell_type": "code",
      "execution_count": 4,
      "metadata": {
        "scrolled": false,
        "id": "jIouRW4rZaKU",
        "outputId": "4eb4af2d-cb96-4529-ed40-92eda308bfcb",
        "colab": {
          "base_uri": "https://localhost:8080/"
        }
      },
      "outputs": [
        {
          "output_type": "stream",
          "name": "stdout",
          "text": [
            "    order_id  quantity                              item_name  \\\n",
            "0          1         1           Chips and Fresh Tomato Salsa   \n",
            "1          1         1                                   Izze   \n",
            "2          1         1                       Nantucket Nectar   \n",
            "3          1         1  Chips and Tomatillo-Green Chili Salsa   \n",
            "4          2         2                           Chicken Bowl   \n",
            "5          3         1                           Chicken Bowl   \n",
            "6          3         1                          Side of Chips   \n",
            "7          4         1                          Steak Burrito   \n",
            "8          4         1                       Steak Soft Tacos   \n",
            "9          5         1                          Steak Burrito   \n",
            "10         5         1                    Chips and Guacamole   \n",
            "11         6         1                   Chicken Crispy Tacos   \n",
            "12         6         1                     Chicken Soft Tacos   \n",
            "13         7         1                           Chicken Bowl   \n",
            "14         7         1                    Chips and Guacamole   \n",
            "15         8         1  Chips and Tomatillo-Green Chili Salsa   \n",
            "16         8         1                        Chicken Burrito   \n",
            "17         9         1                        Chicken Burrito   \n",
            "18         9         2                            Canned Soda   \n",
            "19        10         1                           Chicken Bowl   \n",
            "\n",
            "                                   choice_description item_price  \n",
            "0                                                 NaN     $2.39   \n",
            "1                                        [Clementine]     $3.39   \n",
            "2                                             [Apple]     $3.39   \n",
            "3                                                 NaN     $2.39   \n",
            "4   [Tomatillo-Red Chili Salsa (Hot), [Black Beans...    $16.98   \n",
            "5   [Fresh Tomato Salsa (Mild), [Rice, Cheese, Sou...    $10.98   \n",
            "6                                                 NaN     $1.69   \n",
            "7   [Tomatillo Red Chili Salsa, [Fajita Vegetables...    $11.75   \n",
            "8   [Tomatillo Green Chili Salsa, [Pinto Beans, Ch...     $9.25   \n",
            "9   [Fresh Tomato Salsa, [Rice, Black Beans, Pinto...     $9.25   \n",
            "10                                                NaN     $4.45   \n",
            "11  [Roasted Chili Corn Salsa, [Fajita Vegetables,...     $8.75   \n",
            "12  [Roasted Chili Corn Salsa, [Rice, Black Beans,...     $8.75   \n",
            "13  [Fresh Tomato Salsa, [Fajita Vegetables, Rice,...    $11.25   \n",
            "14                                                NaN     $4.45   \n",
            "15                                                NaN     $2.39   \n",
            "16  [Tomatillo-Green Chili Salsa (Medium), [Pinto ...     $8.49   \n",
            "17  [Fresh Tomato Salsa (Mild), [Black Beans, Rice...     $8.49   \n",
            "18                                           [Sprite]     $2.18   \n",
            "19  [Tomatillo Red Chili Salsa, [Fajita Vegetables...     $8.75   \n"
          ]
        }
      ],
      "source": [
        "print(chipo.head(20))"
      ]
    },
    {
      "cell_type": "markdown",
      "metadata": {
        "id": "lYqPxFM2ZaKV"
      },
      "source": [
        "### What is the number of observations in the dataset?"
      ]
    },
    {
      "cell_type": "code",
      "execution_count": 5,
      "metadata": {
        "id": "5WAbyCVnZaKV",
        "outputId": "6ac434db-9bdb-4bd1-a9ec-40f2be4db321",
        "colab": {
          "base_uri": "https://localhost:8080/"
        }
      },
      "outputs": [
        {
          "output_type": "stream",
          "name": "stdout",
          "text": [
            "The number of observations in the dataset is: 4622\n"
          ]
        }
      ],
      "source": [
        "# Solution\n",
        "num_observations = chipo.shape[0]\n",
        "print(f\"The number of observations in the dataset is: {num_observations}\")"
      ]
    },
    {
      "cell_type": "markdown",
      "metadata": {
        "id": "1VdaeFMUZaKV"
      },
      "source": [
        "### What is the number of columns in the dataset? Names of the columns in the dataset?"
      ]
    },
    {
      "cell_type": "code",
      "execution_count": 6,
      "metadata": {
        "id": "orR19Dd1ZaKV",
        "outputId": "432e11a0-a677-4bfa-cca1-4e70fda2a5ed",
        "colab": {
          "base_uri": "https://localhost:8080/"
        }
      },
      "outputs": [
        {
          "output_type": "stream",
          "name": "stdout",
          "text": [
            "The number of columns in the dataset is: 5\n",
            "The names of the columns in the dataset are: ['order_id', 'quantity', 'item_name', 'choice_description', 'item_price']\n"
          ]
        }
      ],
      "source": [
        "num_columns = chipo.shape[1]\n",
        "print(f\"The number of columns in the dataset is: {num_columns}\")\n",
        "column_names = chipo.columns\n",
        "print(\"The names of the columns in the dataset are:\", list(column_names))"
      ]
    },
    {
      "cell_type": "markdown",
      "metadata": {
        "id": "Piuenk9EZaKW"
      },
      "source": [
        "### What was the most-ordered item? In how much quantity in total was it ordered?\n",
        "\n"
      ]
    },
    {
      "cell_type": "code",
      "execution_count": 7,
      "metadata": {
        "id": "a6RlAJySZaKX"
      },
      "outputs": [],
      "source": [
        "item_quantity = chipo.groupby('item_name')['quantity'].sum()\n",
        "most_ordered_item = item_quantity.idxmax()"
      ]
    },
    {
      "cell_type": "code",
      "source": [
        "most_ordered_quantity = item_quantity.max()\n",
        "print(f\"The most-ordered item is: {most_ordered_item}\")\n",
        "print(f\"The total quantity of the most-ordered item is: {most_ordered_quantity}\")"
      ],
      "metadata": {
        "id": "3Jg4pQJD76eh",
        "outputId": "e8a47aa3-306c-478c-d02b-c085ec3fc1ef",
        "colab": {
          "base_uri": "https://localhost:8080/"
        }
      },
      "execution_count": 8,
      "outputs": [
        {
          "output_type": "stream",
          "name": "stdout",
          "text": [
            "The most-ordered item is: Chicken Bowl\n",
            "The total quantity of the most-ordered item is: 761\n"
          ]
        }
      ]
    },
    {
      "cell_type": "markdown",
      "metadata": {
        "id": "ZPRQl-aqZaKX"
      },
      "source": [
        "\n",
        "### What was the most ordered item in the choice_description column? How many were ordered?"
      ]
    },
    {
      "cell_type": "code",
      "source": [
        "choice_quantity = chipo.groupby('choice_description')['quantity'].sum()\n",
        "most_ordered_choice = choice_quantity.idxmax()\n",
        "most_ordered_choice_quantity = choice_quantity.max()\n",
        "print(f\"The most-ordered item in the choice_description column is: {most_ordered_choice}\")\n",
        "print(f\"The total quantity of this item ordered is: {most_ordered_choice_quantity}\")"
      ],
      "metadata": {
        "id": "JCuG3Lzd-GMy",
        "outputId": "a40f902c-a94d-4576-e621-85bb35abea10",
        "colab": {
          "base_uri": "https://localhost:8080/"
        }
      },
      "execution_count": 9,
      "outputs": [
        {
          "output_type": "stream",
          "name": "stdout",
          "text": [
            "The most-ordered item in the choice_description column is: [Diet Coke]\n",
            "The total quantity of this item ordered is: 159\n"
          ]
        }
      ]
    },
    {
      "cell_type": "markdown",
      "metadata": {
        "id": "sS6VF2J8ZaKX"
      },
      "source": [
        "### How many items were orderd in total?"
      ]
    },
    {
      "cell_type": "code",
      "execution_count": 10,
      "metadata": {
        "id": "vH7LCMajZaKX",
        "outputId": "b28bb7fe-b74a-4c7e-dcd9-8ebc32ae65f2",
        "colab": {
          "base_uri": "https://localhost:8080/"
        }
      },
      "outputs": [
        {
          "output_type": "stream",
          "name": "stdout",
          "text": [
            "The total number of items ordered is: 4972\n"
          ]
        }
      ],
      "source": [
        "total_items_ordered = chipo['quantity'].sum()\n",
        "\n",
        "print(f\"The total number of items ordered is: {total_items_ordered}\")"
      ]
    },
    {
      "cell_type": "markdown",
      "source": [
        "### Provide a list of unique items offered for sale to eat at Chipotle."
      ],
      "metadata": {
        "id": "QLria4x4PK7g"
      }
    },
    {
      "cell_type": "code",
      "source": [
        "unique_items = chipo['item_name'].unique()\n",
        "\n",
        "print(\"Unique items offered for sale at Chipotle are:\")\n",
        "print(unique_items)"
      ],
      "metadata": {
        "id": "oUyiLc4bPLpw",
        "outputId": "6803c187-3349-43ba-b2b5-799e9f7be652",
        "colab": {
          "base_uri": "https://localhost:8080/"
        }
      },
      "execution_count": 11,
      "outputs": [
        {
          "output_type": "stream",
          "name": "stdout",
          "text": [
            "Unique items offered for sale at Chipotle are:\n",
            "['Chips and Fresh Tomato Salsa' 'Izze' 'Nantucket Nectar'\n",
            " 'Chips and Tomatillo-Green Chili Salsa' 'Chicken Bowl' 'Side of Chips'\n",
            " 'Steak Burrito' 'Steak Soft Tacos' 'Chips and Guacamole'\n",
            " 'Chicken Crispy Tacos' 'Chicken Soft Tacos' 'Chicken Burrito'\n",
            " 'Canned Soda' 'Barbacoa Burrito' 'Carnitas Burrito' 'Carnitas Bowl'\n",
            " 'Bottled Water' 'Chips and Tomatillo Green Chili Salsa' 'Barbacoa Bowl'\n",
            " 'Chips' 'Chicken Salad Bowl' 'Steak Bowl' 'Barbacoa Soft Tacos'\n",
            " 'Veggie Burrito' 'Veggie Bowl' 'Steak Crispy Tacos'\n",
            " 'Chips and Tomatillo Red Chili Salsa' 'Barbacoa Crispy Tacos'\n",
            " 'Veggie Salad Bowl' 'Chips and Roasted Chili-Corn Salsa'\n",
            " 'Chips and Roasted Chili Corn Salsa' 'Carnitas Soft Tacos'\n",
            " 'Chicken Salad' 'Canned Soft Drink' 'Steak Salad Bowl'\n",
            " '6 Pack Soft Drink' 'Chips and Tomatillo-Red Chili Salsa' 'Bowl'\n",
            " 'Burrito' 'Crispy Tacos' 'Carnitas Crispy Tacos' 'Steak Salad'\n",
            " 'Chips and Mild Fresh Tomato Salsa' 'Veggie Soft Tacos'\n",
            " 'Carnitas Salad Bowl' 'Barbacoa Salad Bowl' 'Salad' 'Veggie Crispy Tacos'\n",
            " 'Veggie Salad' 'Carnitas Salad']\n"
          ]
        }
      ]
    },
    {
      "cell_type": "markdown",
      "metadata": {
        "id": "Zg3Zn70UZaKb"
      },
      "source": [
        "### How many different items are sold?"
      ]
    },
    {
      "cell_type": "code",
      "execution_count": 12,
      "metadata": {
        "id": "vrdpL059ZaKb",
        "outputId": "25d3124e-cbe6-403d-a275-6706d770c144",
        "colab": {
          "base_uri": "https://localhost:8080/"
        }
      },
      "outputs": [
        {
          "output_type": "stream",
          "name": "stdout",
          "text": [
            "The number of different items sold at Chipotle is: 50\n"
          ]
        }
      ],
      "source": [
        "num_different_items = chipo['item_name'].nunique()\n",
        "\n",
        "print(f\"The number of different items sold at Chipotle is: {num_different_items}\")"
      ]
    },
    {
      "cell_type": "markdown",
      "metadata": {
        "id": "F8LZ6RUiZaKY"
      },
      "source": [
        "### How much revenue was generated for the period in the dataset?\n"
      ]
    },
    {
      "cell_type": "code",
      "execution_count": 13,
      "metadata": {
        "id": "VkNY1zxRZaKY",
        "outputId": "abe04d9e-7999-4843-a3b7-85580ddc4dd3",
        "colab": {
          "base_uri": "https://localhost:8080/"
        }
      },
      "outputs": [
        {
          "output_type": "stream",
          "name": "stdout",
          "text": [
            "The total revenue generated for the period in the dataset is: $39237.02\n"
          ]
        }
      ],
      "source": [
        "chipo['item_price'] = chipo['item_price'].replace('[\\$,]', '', regex=True).astype(float)\n",
        "total_revenue = (chipo['quantity'] * chipo['item_price']).sum()\n",
        "print(f\"The total revenue generated for the period in the dataset is: ${total_revenue:.2f}\")"
      ]
    },
    {
      "cell_type": "markdown",
      "metadata": {
        "id": "NWXRgUCxZaKa"
      },
      "source": [
        "### What is the average revenue amount per order?"
      ]
    },
    {
      "cell_type": "code",
      "execution_count": 14,
      "metadata": {
        "id": "HF1EEx1gZaKa",
        "outputId": "e3c50938-ad58-472d-8886-2d784514d79c",
        "colab": {
          "base_uri": "https://localhost:8080/"
        }
      },
      "outputs": [
        {
          "output_type": "stream",
          "name": "stdout",
          "text": [
            "The average revenue amount per order is: $21.39\n"
          ]
        },
        {
          "output_type": "stream",
          "name": "stderr",
          "text": [
            "<ipython-input-14-194cbaa27413>:2: DeprecationWarning: DataFrameGroupBy.apply operated on the grouping columns. This behavior is deprecated, and in a future version of pandas the grouping columns will be excluded from the operation. Either pass `include_groups=False` to exclude the groupings or explicitly select the grouping columns after groupby to silence this warning.\n",
            "  order_total = chipo.groupby('order_id').apply(lambda x: (x['quantity'] * x['item_price']).sum())\n"
          ]
        }
      ],
      "source": [
        "chipo['item_price'] = chipo['item_price'].replace('[\\$,]', '', regex=True).astype(float)\n",
        "order_total = chipo.groupby('order_id').apply(lambda x: (x['quantity'] * x['item_price']).sum())\n",
        "average_revenue_per_order = order_total.mean()\n",
        "print(f\"The average revenue amount per order is: ${average_revenue_per_order:.2f}\")"
      ]
    },
    {
      "cell_type": "markdown",
      "metadata": {
        "id": "-8gqdPUBZaKZ"
      },
      "source": [
        "### How many orders were made in the period?"
      ]
    },
    {
      "cell_type": "code",
      "execution_count": 15,
      "metadata": {
        "id": "fw6hbh2PZaKZ",
        "outputId": "df92a04b-3187-437c-f5bf-2e4e64c86b0f",
        "colab": {
          "base_uri": "https://localhost:8080/"
        }
      },
      "outputs": [
        {
          "output_type": "stream",
          "name": "stdout",
          "text": [
            "The total number of orders made during the period is: 1834\n"
          ]
        }
      ],
      "source": [
        "total_orders = chipo['order_id'].nunique()\n",
        "\n",
        "print(f\"The total number of orders made during the period is: {total_orders}\")"
      ]
    },
    {
      "cell_type": "markdown",
      "metadata": {
        "id": "3DcqrpKdZaKZ"
      },
      "source": [
        "### How much revenue was generated selling the second most popular item in the menu?\n",
        "\n"
      ]
    },
    {
      "cell_type": "code",
      "execution_count": 16,
      "metadata": {
        "id": "MLvgGX46ZaKZ",
        "outputId": "35406920-2961-46c7-a55a-66b03de43ea0",
        "colab": {
          "base_uri": "https://localhost:8080/"
        }
      },
      "outputs": [
        {
          "output_type": "stream",
          "name": "stdout",
          "text": [
            "The second most popular item is: Chicken Burrito with 591 units sold.\n",
            "The total revenue generated from Chicken Burrito is: $5575.82\n"
          ]
        }
      ],
      "source": [
        "chipo['item_price'] = chipo['item_price'].replace('[\\$,]', '', regex=True).astype(float)\n",
        "item_quantity = chipo.groupby('item_name')['quantity'].sum().sort_values(ascending=False)\n",
        "second_most_popular_item = item_quantity.index[1]\n",
        "second_most_popular_quantity = item_quantity.iloc[1]\n",
        "second_item_revenue = chipo[chipo['item_name'] == second_most_popular_item]['item_price'].sum()\n",
        "print(f\"The second most popular item is: {second_most_popular_item} with {second_most_popular_quantity} units sold.\")\n",
        "print(f\"The total revenue generated from {second_most_popular_item} is: ${second_item_revenue:.2f}\")"
      ]
    }
  ],
  "metadata": {
    "anaconda-cloud": {},
    "kernelspec": {
      "display_name": "Python [default]",
      "language": "python",
      "name": "python2"
    },
    "language_info": {
      "codemirror_mode": {
        "name": "ipython",
        "version": 2
      },
      "file_extension": ".py",
      "mimetype": "text/x-python",
      "name": "python",
      "nbconvert_exporter": "python",
      "pygments_lexer": "ipython2",
      "version": "2.7.12"
    },
    "colab": {
      "provenance": [],
      "include_colab_link": true
    }
  },
  "nbformat": 4,
  "nbformat_minor": 0
}