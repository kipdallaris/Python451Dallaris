{
  "nbformat": 4,
  "nbformat_minor": 0,
  "metadata": {
    "colab": {
      "provenance": []
    },
    "kernelspec": {
      "name": "python3",
      "display_name": "Python 3"
    },
    "language_info": {
      "name": "python"
    }
  },
  "cells": [
    {
      "cell_type": "code",
      "execution_count": null,
      "metadata": {
        "colab": {
          "base_uri": "https://localhost:8080/"
        },
        "id": "acCZkw3zy_iY",
        "outputId": "dba17443-b411-42a8-9dbf-06e795376e62"
      },
      "outputs": [
        {
          "output_type": "execute_result",
          "data": {
            "text/plain": [
              "{'first_name': 'Jane',\n",
              " 'last_name': 'Gretsky',\n",
              " 'nationality': 'Canada',\n",
              " 'birth_year': 1961}"
            ]
          },
          "metadata": {},
          "execution_count": 4
        }
      ],
      "source": [
        "# Create a dictionary\n",
        "\n",
        "person = {\n",
        "    \"first_name\": 'Wayne',\n",
        "    \"last_name\": 'Gretsky',\n",
        "    \"nationality\": 'Canada',\n",
        "    \"birth_year\": 1961\n",
        "}\n",
        "person['first_name']\n",
        "person['first_name'] = 'Jane' # We can change Wayne's name to Jane\n",
        "person"
      ]
    },
    {
      "cell_type": "markdown",
      "source": [
        "# EXERCISE: create a dictionary called car_type with your choice of a car brand, model, year, usnews_rating, and engine size."
      ],
      "metadata": {
        "id": "uTGbYVI40-6u"
      }
    },
    {
      "cell_type": "code",
      "source": [
        "## Write your answer here\n",
        "car_type = {\n",
        "    \"brand\": 'Ford',\n",
        "    \"model\": 'Ranger',\n",
        "    \"year\": 2025,\n",
        "    \"rating\": 3.7,\n",
        "    \"engine\": 6\n",
        "}\n",
        "car_type[\"brand\"]"
      ],
      "metadata": {
        "id": "7d2EwY1rR7Gu",
        "outputId": "9f652b05-a33b-41cf-b847-606024bea9b8",
        "colab": {
          "base_uri": "https://localhost:8080/",
          "height": 35
        }
      },
      "execution_count": 14,
      "outputs": [
        {
          "output_type": "execute_result",
          "data": {
            "text/plain": [
              "'Ford'"
            ],
            "application/vnd.google.colaboratory.intrinsic+json": {
              "type": "string"
            }
          },
          "metadata": {},
          "execution_count": 14
        }
      ]
    },
    {
      "cell_type": "code",
      "source": [
        "#LIST\n",
        "\n",
        "primes = [2, 3, 5, 7, 11]\n",
        "users = [\"Dillon\", \"Michael\", \"Lea\"]\n",
        "users[-1]"
      ],
      "metadata": {
        "colab": {
          "base_uri": "https://localhost:8080/",
          "height": 35
        },
        "id": "BvYVVKaB0HIg",
        "outputId": "1def2681-56b8-4e9a-d2bc-1ac90fdc33ac"
      },
      "execution_count": 4,
      "outputs": [
        {
          "output_type": "execute_result",
          "data": {
            "text/plain": [
              "'Lea'"
            ],
            "application/vnd.google.colaboratory.intrinsic+json": {
              "type": "string"
            }
          },
          "metadata": {},
          "execution_count": 4
        }
      ]
    },
    {
      "cell_type": "code",
      "source": [
        "users[0] = 'Madison'\n",
        "users"
      ],
      "metadata": {
        "colab": {
          "base_uri": "https://localhost:8080/"
        },
        "id": "3yKbvSoL1Lp5",
        "outputId": "c9b8e972-619d-4209-9848-89d63fab8492"
      },
      "execution_count": 5,
      "outputs": [
        {
          "output_type": "execute_result",
          "data": {
            "text/plain": [
              "['Madison', 'Michael', 'Lea']"
            ]
          },
          "metadata": {},
          "execution_count": 5
        }
      ]
    },
    {
      "cell_type": "code",
      "source": [
        "users.append('Rachel')\n",
        "users"
      ],
      "metadata": {
        "colab": {
          "base_uri": "https://localhost:8080/"
        },
        "id": "JGn6Xr3C1LzM",
        "outputId": "93477e0e-5e8f-4eed-ec7a-b3b9e0b6705e"
      },
      "execution_count": 6,
      "outputs": [
        {
          "output_type": "execute_result",
          "data": {
            "text/plain": [
              "['Madison', 'Michael', 'Lea', 'Rachel']"
            ]
          },
          "metadata": {},
          "execution_count": 6
        }
      ]
    },
    {
      "cell_type": "code",
      "source": [
        "users.pop()\n",
        "users"
      ],
      "metadata": {
        "colab": {
          "base_uri": "https://localhost:8080/"
        },
        "id": "CaEUb_3F8RUR",
        "outputId": "8e06d887-e358-4a86-8989-1acfb313a40e"
      },
      "execution_count": 7,
      "outputs": [
        {
          "output_type": "execute_result",
          "data": {
            "text/plain": [
              "['Madison', 'Michael', 'Lea']"
            ]
          },
          "metadata": {},
          "execution_count": 7
        }
      ]
    },
    {
      "cell_type": "code",
      "source": [
        "# List with dictionaries as each item\n",
        "\n",
        "products = [\n",
        "    {\"name\": \"IPhone 12\", \"price\": 949},\n",
        "    {\"name\": \"Fairphone\", \"price\": 419},\n",
        "    {\"name\": \"Pixel 5\", \"price\": 799}]"
      ],
      "metadata": {
        "id": "fW13F_OY8RYx"
      },
      "execution_count": 9,
      "outputs": []
    },
    {
      "cell_type": "markdown",
      "source": [
        "# Create a list with dictionaries of 3 people with their names, ages, city of birth, and occupation."
      ],
      "metadata": {
        "id": "EyXkKbGcR2A-"
      }
    },
    {
      "cell_type": "code",
      "source": [
        "## Write your answer here\n",
        "people_work = [\n",
        "    {\"name\": \"Jim\", \"age\": 41, \"birthcity\": \"Dallas\", \"occupation\": \"Teacher\"},\n",
        "    {\"name\": \"John\", \"age\": 42, \"birthcity\": \"Nashville\", \"occupation\": \"Cop\"},\n",
        "    {\"name\": \"James\", \"age\": 43, \"birthcity\": \"Buffalo\", \"occupation\": \"Accountant\"}]\n",
        "people_work[0]"
      ],
      "metadata": {
        "id": "pMpq0S0H8Rbn",
        "outputId": "dc8a8e2e-e04e-4110-8926-7da1dedeaf06",
        "colab": {
          "base_uri": "https://localhost:8080/"
        }
      },
      "execution_count": 16,
      "outputs": [
        {
          "output_type": "execute_result",
          "data": {
            "text/plain": [
              "{'name': 'Jim', 'age': 41, 'birthcity': 'Dallas', 'occupation': 'Teacher'}"
            ]
          },
          "metadata": {},
          "execution_count": 16
        }
      ]
    },
    {
      "cell_type": "markdown",
      "source": [
        "## Tuples\n"
      ],
      "metadata": {
        "id": "3yVFzLfdaV72"
      }
    },
    {
      "cell_type": "code",
      "source": [
        "point_dict = {\"x\": 2, \"y\": 4}\n",
        "point_tuple = (2, 4)\n",
        "\n",
        "date_dict = {\n",
        "  \"year\": 1973,\n",
        "  \"month\": 10,\n",
        "  \"day\": 23\n",
        "}\n",
        "date_tuple = (1973, 10, 23)\n",
        "\n",
        "date_tuple[0] # 1973\n",
        "len(date_tuple) # 3"
      ],
      "metadata": {
        "colab": {
          "base_uri": "https://localhost:8080/"
        },
        "id": "0VPc5WzySXUJ",
        "outputId": "be2c194c-bca9-4a54-e925-c9563697477b"
      },
      "execution_count": 17,
      "outputs": [
        {
          "output_type": "execute_result",
          "data": {
            "text/plain": [
              "3"
            ]
          },
          "metadata": {},
          "execution_count": 17
        }
      ]
    },
    {
      "cell_type": "code",
      "source": [
        "a = [1, 2, 3]\n",
        "b = a\n",
        "b.append(4)\n",
        "a"
      ],
      "metadata": {
        "colab": {
          "base_uri": "https://localhost:8080/"
        },
        "id": "iLsiyl6SSXWu",
        "outputId": "b7b962e2-3262-4e1a-e556-9dbb5f4d7faf"
      },
      "execution_count": 18,
      "outputs": [
        {
          "output_type": "execute_result",
          "data": {
            "text/plain": [
              "[1, 2, 3, 4]"
            ]
          },
          "metadata": {},
          "execution_count": 18
        }
      ]
    },
    {
      "cell_type": "markdown",
      "source": [
        "OBJECT REFERENCES AND MUTATIONS"
      ],
      "metadata": {
        "id": "T_6Gi5uja-ko"
      }
    },
    {
      "cell_type": "code",
      "source": [
        "a = [1, 2, 3]\n",
        "b = a\n",
        "b.append(4)"
      ],
      "metadata": {
        "id": "RgDpPQkGa__W"
      },
      "execution_count": 19,
      "outputs": []
    },
    {
      "cell_type": "code",
      "source": [
        "a = [1, 2, 3]\n",
        "# creating a new copy\n",
        "b = a.copy()\n",
        "# modifying b\n",
        "b.append(4)\n",
        "a"
      ],
      "metadata": {
        "colab": {
          "base_uri": "https://localhost:8080/"
        },
        "id": "B6VuiXhDbD1h",
        "outputId": "fecaa6d1-2abb-4084-9e6b-40dd4189ddbc"
      },
      "execution_count": 20,
      "outputs": [
        {
          "output_type": "execute_result",
          "data": {
            "text/plain": [
              "[1, 2, 3]"
            ]
          },
          "metadata": {},
          "execution_count": 20
        }
      ]
    },
    {
      "cell_type": "markdown",
      "source": [
        "## INPUT AND OUTPUT OF TEXT\n"
      ],
      "metadata": {
        "id": "9OzH0JvEeBOk"
      }
    },
    {
      "cell_type": "code",
      "source": [
        "print(\"What is your name?\")\n",
        "name = input()\n",
        "name\n",
        "print(\"Nice to meet you, \" + name)\n",
        "# name_length = len(name)\n",
        "# name_length"
      ],
      "metadata": {
        "colab": {
          "base_uri": "https://localhost:8080/"
        },
        "id": "BGmsRpmGbDx4",
        "outputId": "b4371ecf-306c-4f51-84d3-aa04fbdafce8"
      },
      "execution_count": 22,
      "outputs": [
        {
          "output_type": "stream",
          "name": "stdout",
          "text": [
            "What is your name?\n",
            "Pluto\n",
            "Nice to meet you, Pluto\n"
          ]
        }
      ]
    },
    {
      "cell_type": "markdown",
      "source": [
        "## Write a program which will ask the user for their birth year and will respond with the user's age in the year 2025."
      ],
      "metadata": {
        "id": "pcf_eOQQfoUJ"
      }
    },
    {
      "cell_type": "code",
      "source": [
        "print(\"What is your birth year?\")\n",
        "birthyear = input()\n",
        "birthyear\n",
        "print(\"In 2025, you will be\", 2025 - int(birthyear))\n"
      ],
      "metadata": {
        "id": "EdUoqKqwbDq2",
        "outputId": "a121337e-4023-4344-b5bc-4560d9acc447",
        "colab": {
          "base_uri": "https://localhost:8080/"
        }
      },
      "execution_count": 23,
      "outputs": [
        {
          "output_type": "stream",
          "name": "stdout",
          "text": [
            "What is your birth year?\n",
            "2003\n",
            "In 2025, you will be 22\n"
          ]
        }
      ]
    },
    {
      "cell_type": "code",
      "source": [
        "import random\n",
        "\n",
        "print(random.randint(1, 6))\n",
        "print(random.choice([\"heads\", \"tails\"]))"
      ],
      "metadata": {
        "colab": {
          "base_uri": "https://localhost:8080/"
        },
        "id": "RHSxKGpPbDoQ",
        "outputId": "76847429-7862-4de8-ef67-bc1d2867115d"
      },
      "execution_count": null,
      "outputs": [
        {
          "output_type": "stream",
          "name": "stdout",
          "text": [
            "2\n",
            "tails\n"
          ]
        }
      ]
    }
  ]
}