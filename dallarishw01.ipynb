{
  "nbformat": 4,
  "nbformat_minor": 0,
  "metadata": {
    "colab": {
      "provenance": [],
      "include_colab_link": true
    },
    "kernelspec": {
      "name": "python3",
      "display_name": "Python 3"
    },
    "language_info": {
      "name": "python"
    }
  },
  "cells": [
    {
      "cell_type": "markdown",
      "metadata": {
        "id": "view-in-github",
        "colab_type": "text"
      },
      "source": [
        "<a href=\"https://colab.research.google.com/github/kipdallaris/Python451Dallaris/blob/main/dallarishw01.ipynb\" target=\"_parent\"><img src=\"https://colab.research.google.com/assets/colab-badge.svg\" alt=\"Open In Colab\"/></a>"
      ]
    },
    {
      "cell_type": "markdown",
      "source": [
        "# HW 01"
      ],
      "metadata": {
        "id": "JaguTAItuC48"
      }
    },
    {
      "cell_type": "markdown",
      "source": [
        "### Q1. Write a program to input your age and print whether you are more than or less than a billion seconds old."
      ],
      "metadata": {
        "id": "8N08oInsuN8g"
      }
    },
    {
      "cell_type": "code",
      "execution_count": null,
      "metadata": {
        "id": "KlPvWPxRuCVz",
        "colab": {
          "base_uri": "https://localhost:8080/"
        },
        "outputId": "3c717f6f-0509-400e-cfd1-b428a74d6d83"
      },
      "outputs": [
        {
          "output_type": "stream",
          "name": "stdout",
          "text": [
            "Please enter your age: 22\n",
            "You are less than a billion seconds old.\n",
            "You are 694267200.0 seconds old.\n"
          ]
        }
      ],
      "source": [
        "## Enter answer here.\n",
        "def age_in_seconds(age):\n",
        "  seconds_per_year = 365.25 * 24 * 60 * 60\n",
        "  return age * seconds_per_year\n",
        "age = int(input(\"Please enter your age: \"))\n",
        "seconds = age_in_seconds(age)\n",
        "if seconds > 1_000_000_000:\n",
        "    print(\"You are more than a billion seconds old.\")\n",
        "else:\n",
        "    print(\"You are less than a billion seconds old.\")\n",
        "print(f\"You are {seconds} seconds old.\")\n",
        "\n"
      ]
    },
    {
      "cell_type": "markdown",
      "source": [
        "### Q2. Create a list with 10 names. Print each name with a Good morning greeting with the name using a conditional loop.\n",
        "\n",
        "For example\n",
        "\n",
        "`name = ['Ashley', 'Brianna', 'Chetan', 'David', 'Eoin', 'Francois', 'Gemma', 'Hameed', 'Ishaan', 'Joanna']`\n",
        "\n",
        "Outputs will be 'Good morning, Ashley', 'Good morning, Brianna', and so on."
      ],
      "metadata": {
        "id": "X3IPYLTgvnDh"
      }
    },
    {
      "cell_type": "code",
      "source": [
        "## Enter answer here.\n",
        "\n",
        "names = ['Ashley', 'Brianna', 'Chetan', 'David', 'Eoin', 'Francois', 'Gemma', 'Hameed', 'Ishaan', 'Joanna']\n",
        "for name in names:\n",
        "  print(f\"Good morning, {name}\")"
      ],
      "metadata": {
        "id": "MFG2cvatvmr2",
        "colab": {
          "base_uri": "https://localhost:8080/"
        },
        "outputId": "6cea3f9a-a97d-4e28-df35-8be7dfbf47f2"
      },
      "execution_count": null,
      "outputs": [
        {
          "output_type": "stream",
          "name": "stdout",
          "text": [
            "Good morning, Ashley\n",
            "Good morning, Brianna\n",
            "Good morning, Chetan\n",
            "Good morning, David\n",
            "Good morning, Eoin\n",
            "Good morning, Francois\n",
            "Good morning, Gemma\n",
            "Good morning, Hameed\n",
            "Good morning, Ishaan\n",
            "Good morning, Joanna\n"
          ]
        }
      ]
    },
    {
      "cell_type": "markdown",
      "source": [
        "### Q3. Create a list of 15 numbers. Print only those numbers that are divisible by 2."
      ],
      "metadata": {
        "id": "niM878Jrx1bf"
      }
    },
    {
      "cell_type": "code",
      "source": [
        "## Enter answer here.\n",
        "numbers = [12, 34, 55, 18, 60, 23, 44, 71, 82, 39, 48, 57, 76, 13, 94]\n",
        "for number in numbers:\n",
        "    if number % 2 == 0:\n",
        "        print(number)\n"
      ],
      "metadata": {
        "id": "m7XjkMn8uUY2",
        "colab": {
          "base_uri": "https://localhost:8080/"
        },
        "outputId": "77685481-0f31-4e28-8d9b-ee29e67539cb"
      },
      "execution_count": null,
      "outputs": [
        {
          "output_type": "stream",
          "name": "stdout",
          "text": [
            "12\n",
            "34\n",
            "18\n",
            "60\n",
            "44\n",
            "82\n",
            "48\n",
            "76\n",
            "94\n"
          ]
        }
      ]
    },
    {
      "cell_type": "markdown",
      "source": [
        "### Q4. Print the squared numbers of a list containing at least 10 numbers with a mix of float, integer, and negative numbers. Use the longer method as well as list comprehension.\n",
        "\n",
        "You can either generate your own list of 10 numbers or find use a random number generator."
      ],
      "metadata": {
        "id": "u1kyA9ksy_JI"
      }
    },
    {
      "cell_type": "code",
      "source": [
        "## Enter answer here.\n",
        "\n",
        "nums = [0,-1.25,15.86,-25]\n",
        "method1_squares = []\n",
        "\n",
        "for i in nums:\n",
        "    method1_squares.append(i**2)\n",
        "\n",
        "print(method1_squares)\n",
        "\n",
        "## Now method 2\n",
        "numbers = [1.5, 2, -1, 3.5, -2.5, 0, 8, 7, -3, 10]\n",
        "squared_numbers = [number ** 2 for number in numbers]\n",
        "print(\"Squared numbers using list comprehension:\")\n",
        "for squared_number in squared_numbers:\n",
        "    print(squared_number)"
      ],
      "metadata": {
        "colab": {
          "base_uri": "https://localhost:8080/"
        },
        "id": "UFHMdDgEuUbD",
        "outputId": "590537a4-0ed1-4f32-88a4-487d0919f63c"
      },
      "execution_count": null,
      "outputs": [
        {
          "output_type": "stream",
          "name": "stdout",
          "text": [
            "[0, 1.5625, 251.53959999999998, 625]\n",
            "Squared numbers using list comprehension:\n",
            "2.25\n",
            "4\n",
            "1\n",
            "12.25\n",
            "6.25\n",
            "0\n",
            "64\n",
            "49\n",
            "9\n",
            "100\n"
          ]
        }
      ]
    },
    {
      "cell_type": "markdown",
      "source": [
        "### Q5. Write a program to print a year if it is a leap year."
      ],
      "metadata": {
        "id": "0ZBlFovqA7G9"
      }
    },
    {
      "cell_type": "markdown",
      "source": [],
      "metadata": {
        "id": "OK1ctUfqA6mP"
      }
    },
    {
      "cell_type": "code",
      "source": [
        "year = int(input())\n",
        "\n",
        "if year%4 == 0:\n",
        "    print(year, \"is a leap year\")\n",
        "else:\n",
        "    print(year, \"is not a leap year\")"
      ],
      "metadata": {
        "id": "QwfOIh36uUeM",
        "colab": {
          "base_uri": "https://localhost:8080/"
        },
        "outputId": "db63b1cf-8f27-43b8-f9e2-36d89f5608df"
      },
      "execution_count": null,
      "outputs": [
        {
          "output_type": "stream",
          "name": "stdout",
          "text": [
            "1900\n",
            "1900 is a leap year\n"
          ]
        }
      ]
    },
    {
      "cell_type": "code",
      "source": [
        "def is_leap_year(year):\n",
        "    if (year % 400 == 0) or (year % 100 != 0 and year % 4 == 0):\n",
        "        return True\n",
        "    else:\n",
        "        return False\n",
        "year = int(input(\"Enter a year to check if it's a leap year: \"))\n",
        "if is_leap_year(year):\n",
        "    print(f\"{year} is a leap year.\")\n",
        "else:\n",
        "    print(f\"{year} is not a leap year.\")"
      ],
      "metadata": {
        "colab": {
          "base_uri": "https://localhost:8080/"
        },
        "id": "53YbXfylfZli",
        "outputId": "556aab9f-cd69-4682-dfd8-c91c91ec817c"
      },
      "execution_count": null,
      "outputs": [
        {
          "output_type": "stream",
          "name": "stdout",
          "text": [
            "Enter a year to check if it's a leap year: 2025\n",
            "2025 is not a leap year.\n"
          ]
        }
      ]
    },
    {
      "cell_type": "markdown",
      "source": [
        "### Q6. Use list comprensions to print all names in a list in upper case."
      ],
      "metadata": {
        "id": "_FRSvLlgArOJ"
      }
    },
    {
      "cell_type": "code",
      "source": [
        "names = ['Ashley', 'Brianna', 'Chetan', 'David', 'Eoin', 'Francois', 'Gemma', 'Hameed', 'Ishaan', 'Joanna']\n",
        "upper_case_names = [name.upper() for name in names]\n",
        "for name in upper_case_names:\n",
        "    print(name)"
      ],
      "metadata": {
        "id": "CwPIZcFQuUhD",
        "colab": {
          "base_uri": "https://localhost:8080/"
        },
        "outputId": "10c9e623-24cb-4d14-c94c-94dce525ea3e"
      },
      "execution_count": null,
      "outputs": [
        {
          "output_type": "stream",
          "name": "stdout",
          "text": [
            "ASHLEY\n",
            "BRIANNA\n",
            "CHETAN\n",
            "DAVID\n",
            "EOIN\n",
            "FRANCOIS\n",
            "GEMMA\n",
            "HAMEED\n",
            "ISHAAN\n",
            "JOANNA\n"
          ]
        }
      ]
    },
    {
      "cell_type": "markdown",
      "source": [
        "### Q7. Question on NUMPY arrays:\n",
        "\n",
        "a. Create a numpy array called `original` with 100 random numbers. What is the largest number, smallest number, max, min, median, and standard deviation of your array? Print them.\n",
        "\n",
        "HINT: use `np.random.uniform()`. Check online for the correct syntax. `np.random.rand(100)` will give you 100 random numbers of uniform distribution with mean 0 and standard deviation of 1, while we want a mix of larger numbers/integers.\n",
        "\n",
        "b. Now create an array called `orig_sqrt` which contains the square roots of the numbers in the original array.\n",
        "\n",
        "### Q8.  Converting 1D arrays into 2D arrays.\n",
        "\n",
        "a. Convert your original array of 100 random numbers into a 2-dimensional array called `mat_array` with 20 rows and 5 columns. Print this array.\n",
        "\n",
        "b. What is the mean of every column in `mat_array`?\n",
        "\n",
        "c. What is the sum of every row? Create a list of 20 elements that contains the sum of every row in `mat_array`.\n",
        "\n",
        "d. Create the transpose of `mat_array` and call it `transpose_array`. What are the dimensions of this array now? Again, find the mean of each column and the sum of each row.\n",
        "\n",
        "### Q9. Array slicing:\n",
        "\n",
        "a. create a new array which contains the 3rd-10th rows and all columns of `mat_array`. Print.\n",
        "\n",
        "b. Print a new array which contains the the last 5 rows and the last 2 columns of `mat_array`. What is the dimension of this array?\n",
        "\n",
        "c. Print a new array which contains the first 3 rows and last 10 columns of `transpose_array`."
      ],
      "metadata": {
        "id": "ulp3oxOZHt5r"
      }
    },
    {
      "cell_type": "code",
      "source": [
        "# Write your answer here. Feel free to break your answer into different blocks of code rather than using just this one cell. Label your answer neatly.\n",
        "import numpy as np\n",
        "original = np.random.uniform(low=0, high=100, size=100)\n",
        "largest_number = np.max(original)\n",
        "smallest_number = np.min(original)\n",
        "median_value = np.median(original)\n",
        "standard_deviation = np.std(original)\n",
        "print(\"Original Array Statistics:\")\n",
        "print(f\"Largest number: {largest_number}\")\n",
        "print(f\"Smallest number: {smallest_number}\")\n",
        "print(f\"Median: {median_value}\")\n",
        "print(f\"Standard deviation: {standard_deviation}\")\n",
        "\n"
      ],
      "metadata": {
        "id": "M6EBbfr7Iaas",
        "colab": {
          "base_uri": "https://localhost:8080/"
        },
        "outputId": "40465dd4-cfa8-4143-e7ce-50369dbe40c8"
      },
      "execution_count": null,
      "outputs": [
        {
          "output_type": "stream",
          "name": "stdout",
          "text": [
            "Original Array Statistics:\n",
            "Largest number: 99.38404456186835\n",
            "Smallest number: 2.2314342068735615\n",
            "Median: 54.96083107708378\n",
            "Standard deviation: 29.038350115085777\n"
          ]
        }
      ]
    },
    {
      "cell_type": "code",
      "source": [
        "orig_sqrt = np.sqrt(original)\n",
        "print(\"\\nSquare Roots of Original Array:\")\n",
        "print(orig_sqrt)"
      ],
      "metadata": {
        "id": "lJWRxuplJ1R-",
        "colab": {
          "base_uri": "https://localhost:8080/"
        },
        "outputId": "3613cf32-398e-4a76-80d6-03ca9f9fcbbb"
      },
      "execution_count": null,
      "outputs": [
        {
          "output_type": "stream",
          "name": "stdout",
          "text": [
            "\n",
            "Square Roots of Original Array:\n",
            "[6.53383057 8.20456078 8.23022787 9.88435966 7.96438736 6.91377666\n",
            " 4.4745166  9.51882063 7.00288806 7.09375694 7.73483135 9.8103883\n",
            " 4.50035631 1.8856562  7.59711611 6.18039896 5.4706221  8.96592533\n",
            " 5.83079967 6.92074096 9.87311324 3.20020886 8.71599489 8.39857187\n",
            " 5.04259744 7.81388188 1.49379858 3.66338388 7.75319825 8.46856091\n",
            " 9.32638715 2.13631426 9.11125933 9.96915466 8.35239627 5.35160627\n",
            " 7.98457859 9.37223277 9.01028655 5.47970446 4.26121262 9.08557678\n",
            " 7.04121643 4.28502401 7.52410339 9.45356075 7.35496146 7.99991066\n",
            " 2.0968406  6.46114777 6.44113233 7.99821238 9.17288898 9.77068173\n",
            " 6.70770105 5.47616375 9.02835321 8.18147241 6.44206538 9.57248718\n",
            " 8.64917806 6.44710118 2.42582884 8.87031151 8.5573901  9.29946034\n",
            " 5.77125995 6.09650147 9.39528194 4.25370101 9.96433441 1.84544603\n",
            " 7.81530468 3.09403137 7.92736146 7.35199958 9.84906897 5.60641339\n",
            " 9.60918282 9.11616045 6.90381757 9.9426039  6.80403498 3.46935422\n",
            " 3.02314878 7.39956207 2.10146988 7.19359257 8.29153408 9.5323061\n",
            " 5.16342186 5.82657285 2.11929518 1.71047594 5.03302575 7.5344369\n",
            " 9.307062   6.81503478 9.11126356 7.42752606]\n"
          ]
        }
      ]
    },
    {
      "cell_type": "code",
      "source": [
        "import numpy as np\n",
        "original = np.random.uniform(low=0, high=100, size=100)\n",
        "mat_array = original.reshape(20, 5)\n",
        "print(\"2D Array (20 rows x 5 columns):\")\n",
        "print(mat_array)"
      ],
      "metadata": {
        "id": "FDYDgwc1Lyy1",
        "colab": {
          "base_uri": "https://localhost:8080/"
        },
        "outputId": "808e845b-4bc8-436c-c131-0c7809776fee"
      },
      "execution_count": null,
      "outputs": [
        {
          "output_type": "stream",
          "name": "stdout",
          "text": [
            "2D Array (20 rows x 5 columns):\n",
            "[[ 5.40891285 10.14875592  1.11853614  4.11292104 76.97096244]\n",
            " [43.42151306 70.75367211 14.46325514 14.09673015 29.51405311]\n",
            " [90.07974674 30.93600523 28.00789828 27.26246118 98.54587267]\n",
            " [86.75491133  3.42996021 77.20960357 89.06412787 63.57787779]\n",
            " [88.92768417 26.28978671 64.35188479 99.58055209  4.29057115]\n",
            " [46.67420662 52.00390947 74.68163621 27.55371656 35.30262556]\n",
            " [77.21108018 89.7081078  76.47777957 72.94257914 43.18948986]\n",
            " [32.80846671 99.9770042  95.91089487 51.81011044 91.65585691]\n",
            " [19.05289008 94.36169602 79.55105886 32.38724319 11.10036591]\n",
            " [52.92874557 46.87696315 61.85164445 69.45410301 58.34617424]\n",
            " [56.81290477 66.00573548  9.48544406 90.35529392 72.86081286]\n",
            " [81.23335737 80.32354755 24.51710649 40.56527958 72.8542474 ]\n",
            " [96.89817609 33.61430173 66.56500466 11.02842662 69.68158983]\n",
            " [55.9592459  77.74344936 30.26286171  4.88739377 48.87815172]\n",
            " [51.46452876 78.62162019 88.29879416 86.99899386 73.17247838]\n",
            " [27.87953621 45.93823322 21.49880038 59.22532966 15.47485846]\n",
            " [78.53951509 64.06620604 19.77998729  8.32066482 98.87201597]\n",
            " [95.18406201 90.03869098 86.62715536 56.62380384 94.5227104 ]\n",
            " [38.219255   59.44707223 98.32576329  2.7445109  79.69304459]\n",
            " [29.05642476 90.84969337 28.01087702 51.55154218 88.93889525]]\n"
          ]
        }
      ]
    },
    {
      "cell_type": "code",
      "source": [
        "column_means = np.mean(mat_array, axis=0)\n",
        "print(\"\\nMean of each column in mat_array:\")\n",
        "print(column_means)"
      ],
      "metadata": {
        "id": "vyV9N3jpLyqP",
        "colab": {
          "base_uri": "https://localhost:8080/"
        },
        "outputId": "2ce99e4d-b74e-48ea-a394-9bfca3a5dbce"
      },
      "execution_count": null,
      "outputs": [
        {
          "output_type": "stream",
          "name": "stdout",
          "text": [
            "\n",
            "Mean of each column in mat_array:\n",
            "[57.72575816 60.55672055 52.34979932 45.02828919 61.37213272]\n"
          ]
        }
      ]
    },
    {
      "cell_type": "code",
      "source": [
        "row_sums = np.sum(mat_array, axis=1)\n",
        "print(\"\\nSum of each row in mat_array:\")\n",
        "print(row_sums)"
      ],
      "metadata": {
        "id": "at-4INjLLyei",
        "colab": {
          "base_uri": "https://localhost:8080/"
        },
        "outputId": "1198b6a3-8db8-41ee-d3bc-805601d682d7"
      },
      "execution_count": null,
      "outputs": [
        {
          "output_type": "stream",
          "name": "stdout",
          "text": [
            "\n",
            "Sum of each row in mat_array:\n",
            "[ 97.76008839 172.24922357 274.8319841  320.03648076 283.44047891\n",
            " 236.21609442 359.52903655 372.16233313 236.45325405 289.45763043\n",
            " 295.52019109 299.4935384  277.78749893 217.73110246 378.55641536\n",
            " 170.01675793 269.57838921 422.9964226  278.42964601 288.40743258]\n"
          ]
        }
      ]
    },
    {
      "cell_type": "code",
      "source": [
        "transpose_array = mat_array.T\n",
        "print(\"\\nTranspose of mat_array (dimensions):\", transpose_array.shape)\n",
        "transpose_column_means = np.mean(transpose_array, axis=0)\n",
        "print(\"Mean of each column in transpose_array:\")\n",
        "print(transpose_column_means)\n",
        "transpose_row_sums = np.sum(transpose_array, axis=1)\n",
        "print(\"Sum of each row in transpose_array:\")\n",
        "print(transpose_row_sums)\n"
      ],
      "metadata": {
        "colab": {
          "base_uri": "https://localhost:8080/"
        },
        "id": "byOQutP8hBxM",
        "outputId": "ab1a66da-38d4-4de5-dace-999401c5b8af"
      },
      "execution_count": null,
      "outputs": [
        {
          "output_type": "stream",
          "name": "stdout",
          "text": [
            "\n",
            "Transpose of mat_array (dimensions): (5, 20)\n",
            "Mean of each column in transpose_array:\n",
            "[19.55201768 34.44984471 54.96639682 64.00729615 56.68809578 47.24321888\n",
            " 71.90580731 74.43246663 47.29065081 57.89152609 59.10403822 59.89870768\n",
            " 55.55749979 43.54622049 75.71128307 34.00335159 53.91567784 84.59928452\n",
            " 55.6859292  57.68148652]\n",
            "Sum of each row in transpose_array:\n",
            "[1154.51516327 1211.13441095 1046.99598633  900.56578381 1227.44265449]\n"
          ]
        }
      ]
    },
    {
      "cell_type": "code",
      "source": [
        "import numpy as np\n",
        "original = np.random.uniform(low=0, high=100, size=100)\n",
        "mat_array = original.reshape(20, 5)\n",
        "slice_a = mat_array[2:10, :]\n",
        "print(\"Array with 3rd to 10th rows and all columns:\")\n",
        "print(slice_a)"
      ],
      "metadata": {
        "colab": {
          "base_uri": "https://localhost:8080/"
        },
        "id": "TdxNdEY9hM_K",
        "outputId": "ea70ec6c-75ed-4efa-c23f-3170666124fd"
      },
      "execution_count": null,
      "outputs": [
        {
          "output_type": "stream",
          "name": "stdout",
          "text": [
            "Array with 3rd to 10th rows and all columns:\n",
            "[[ 3.96546495 35.17134156  8.80501457 84.70978221  3.79175139]\n",
            " [39.09456071 98.56976545 54.27021325 55.53103827 22.28915009]\n",
            " [ 4.09374389 14.83815574  3.39486358 28.67242866 50.91999654]\n",
            " [ 3.70473536 88.0151201  92.88580175 52.18168378 67.8522084 ]\n",
            " [47.0336525  49.21988418 39.93868628 20.08178134 33.82054993]\n",
            " [31.56737296 15.53545221 15.19992076 93.965623    7.82106496]\n",
            " [91.04398936 36.76204759 50.1501216  24.05053703 98.41774735]\n",
            " [33.14889016 43.59845083 60.46252884 70.15814882  6.80389751]]\n"
          ]
        }
      ]
    },
    {
      "cell_type": "code",
      "source": [
        "slice_b = mat_array[-5:, -2:]\n",
        "print(\"\\nArray with the last 5 rows and last 2 columns:\")\n",
        "print(slice_b)\n",
        "print(\"Dimensions of this array:\", slice_b.shape)"
      ],
      "metadata": {
        "colab": {
          "base_uri": "https://localhost:8080/"
        },
        "id": "J_eCVXiDhjdJ",
        "outputId": "be93a13c-f403-47ec-bf44-0b1177a4d0a1"
      },
      "execution_count": null,
      "outputs": [
        {
          "output_type": "stream",
          "name": "stdout",
          "text": [
            "\n",
            "Array with the last 5 rows and last 2 columns:\n",
            "[[66.03470945 91.04572369]\n",
            " [64.78870081 10.40389568]\n",
            " [ 7.01708218 30.06581915]\n",
            " [ 0.30014092 53.31326414]\n",
            " [44.52655074 64.47612112]]\n",
            "Dimensions of this array: (5, 2)\n"
          ]
        }
      ]
    },
    {
      "cell_type": "code",
      "source": [
        "transpose_array = mat_array.T\n",
        "slice_c = transpose_array[:3, :]\n",
        "print(\"\\nArray with the first 3 rows and all columns of transpose_array:\")\n",
        "print(slice_c)"
      ],
      "metadata": {
        "colab": {
          "base_uri": "https://localhost:8080/"
        },
        "id": "cJXCEbKphnes",
        "outputId": "ecf6f547-f800-410f-b2b3-453fd0ec7520"
      },
      "execution_count": null,
      "outputs": [
        {
          "output_type": "stream",
          "name": "stdout",
          "text": [
            "\n",
            "Array with the first 3 rows and all columns of transpose_array:\n",
            "[[35.66101933 48.17290193  3.96546495 39.09456071  4.09374389  3.70473536\n",
            "  47.0336525  31.56737296 91.04398936 33.14889016 32.47921324 74.49725025\n",
            "  52.21433651 87.94292955 76.35969954 91.21042639 19.10553999 61.69729811\n",
            "  60.90375263 69.4472905 ]\n",
            " [98.73429227 25.34826592 35.17134156 98.56976545 14.83815574 88.0151201\n",
            "  49.21988418 15.53545221 36.76204759 43.59845083 82.06317539 85.31788911\n",
            "  79.70169017 87.80928524 79.43356373  1.39823757  3.68801032 42.12718088\n",
            "  26.11172077 21.17043178]\n",
            " [ 1.72985161 89.27567433  8.80501457 54.27021325  3.39486358 92.88580175\n",
            "  39.93868628 15.19992076 50.1501216  60.46252884 47.39121664 61.56586952\n",
            "  93.38710733 89.36745711  0.46481846 29.13076351 94.188876    5.650031\n",
            "  96.81150055 14.10955171]]\n"
          ]
        }
      ]
    },
    {
      "cell_type": "markdown",
      "source": [
        "### Q10. Assume you are inviting 15 friends to your party. You guest list has the following dietary preference.\n",
        "\n",
        "`diet = ['vegetarian', 'pescetarian', 'vegetarian', 'omnivore', 'pescetarian', 'keto', 'keto', 'vegan', 'omnivore', 'omnivore', 'vegan', 'omnivore', 'keto, 'vegetarian', 'vegan']`\n",
        "\n",
        "Their ages are as follows:\n",
        "\n",
        "`age = [21, 20, 19, 25, 27, 18, 23, 25, 19, 22, 20, 20, 23, 21, 24]`\n",
        "\n",
        "Create a list called `menu` which will contain 'veg. fried rice with whiskey' for vegans and vegetarians aged 21 and above,  'veg. fried rice with mocktail' for vegans and vegetarians aged below 21. Follow the same logic and assign fish and white wine to pescetarians of legal age (and fish with mocktail to those below 21). Keto and omnivore guests above 21 will have 'steak and red wine'. Complete the series with the appropriate drink for underage guests."
      ],
      "metadata": {
        "id": "cIhCARNRLzKy"
      }
    },
    {
      "cell_type": "code",
      "source": [
        "# Write your answer here.\n",
        "import numpy as np\n",
        "diet = ['vegetarian', 'pescetarian', 'vegetarian', 'omnivore', 'pescetarian', 'keto', 'keto', 'vegan', 'omnivore', 'omnivore', 'vegan', 'omnivore', 'keto', 'vegetarian', 'vegan']\n",
        "age = [21, 20, 19, 25, 27, 18, 23, 25, 19, 22, 20, 20, 23, 21, 24]\n",
        "def decide_menu(diet, age):\n",
        "    if diet in ['vegan', 'vegetarian']:\n",
        "        if age >= 21:\n",
        "            return 'veg. fried rice with whiskey'\n",
        "        else:\n",
        "            return 'veg. fried rice with mocktail'\n",
        "    elif diet == 'pescetarian':\n",
        "        if age >= 21:\n",
        "            return 'fish and white wine'\n",
        "        else:\n",
        "            return 'fish with mocktail'\n",
        "    elif diet in ['keto', 'omnivore']:\n",
        "        if age >= 21:\n",
        "            return 'steak and red wine'\n",
        "        else:\n",
        "            return 'steak with mocktail'\n",
        "menu = [decide_menu(diet[i], age[i]) for i in range(len(diet))]\n",
        "for i, item in enumerate(menu):\n",
        "    print(f\"Guest {i + 1} ({diet[i]}, age {age[i]}): {item}\")\n"
      ],
      "metadata": {
        "id": "P7Xuiz6JOR5_",
        "colab": {
          "base_uri": "https://localhost:8080/"
        },
        "outputId": "5ac21887-fe13-4d7c-c65a-b813702dcd52"
      },
      "execution_count": null,
      "outputs": [
        {
          "output_type": "stream",
          "name": "stdout",
          "text": [
            "Guest 1 (vegetarian, age 21): veg. fried rice with whiskey\n",
            "Guest 2 (pescetarian, age 20): fish with mocktail\n",
            "Guest 3 (vegetarian, age 19): veg. fried rice with mocktail\n",
            "Guest 4 (omnivore, age 25): steak and red wine\n",
            "Guest 5 (pescetarian, age 27): fish and white wine\n",
            "Guest 6 (keto, age 18): steak with mocktail\n",
            "Guest 7 (keto, age 23): steak and red wine\n",
            "Guest 8 (vegan, age 25): veg. fried rice with whiskey\n",
            "Guest 9 (omnivore, age 19): steak with mocktail\n",
            "Guest 10 (omnivore, age 22): steak and red wine\n",
            "Guest 11 (vegan, age 20): veg. fried rice with mocktail\n",
            "Guest 12 (omnivore, age 20): steak with mocktail\n",
            "Guest 13 (keto, age 23): steak and red wine\n",
            "Guest 14 (vegetarian, age 21): veg. fried rice with whiskey\n",
            "Guest 15 (vegan, age 24): veg. fried rice with whiskey\n"
          ]
        }
      ]
    }
  ]
}